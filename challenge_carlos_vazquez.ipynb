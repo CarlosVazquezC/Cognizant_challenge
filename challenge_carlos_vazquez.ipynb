{
 "cells": [
  {
   "cell_type": "markdown",
   "metadata": {},
   "source": [
    "# NSF Research Awards Abstracts"
   ]
  },
  {
   "cell_type": "markdown",
   "metadata": {},
   "source": [
    "### Instructions"
   ]
  },
  {
   "cell_type": "markdown",
   "metadata": {},
   "source": [
    "This dataset comprises several paper abstracts, one per file, that were furnished by the NSF\n",
    "(National Science Foundation). A sample abstract is shown at the end.\n",
    "Your task is developing an unsupervised model which classifies abstracts into a topic (discover\n",
    "them!). Indeed, your goal is to group abstracts based on their semantic similarity.\n",
    "You can get a sample of abstracts here. Be creative and state clearly your approach. Although\n",
    "we don’t expect accurate results we want to identify your knowledge over traditional and newest\n",
    "method over NLP"
   ]
  },
  {
   "cell_type": "markdown",
   "metadata": {},
   "source": [
    "### 0 - Introduction"
   ]
  },
  {
   "cell_type": "markdown",
   "metadata": {},
   "source": [
    "Topic modeling is one of several used NLP techniques which is frequently applied in document retrieval, personalizing content, trends identification.  Top modeling has four principal methods for topic extraction: LDA, NMF, Top2Vec and BERTopic.  \n",
    "\n",
    "    Latent Dirichlet Allocation (LDA):  is an unsupervised technique for uncovering hidden topics within a document. By using Dirichlet distributions, LDA represents documents as distributions of topics and topics as distributions of words based on their frequency in the corpus. LDA assumes that each document contains a mixture of topics, and that each topic is a mixture of words that are associated with each other.\n",
    "\n",
    "    Non-Negative Matrix Factorization (NMF):  is a linear algebra algorithm used to uncover hidden topics by decomposing high-dimensional vectors into non-negative, lower-dimensional representations. Given a normalized TF-IDF matrix as input, NMF outputs two matrices: a matrix of words by topics and a matrix of topics by documents.  Through multiple iterations, NMF optimizes the product of these two matrices until it reaches the original TF-IDF matrix.\n",
    "\n",
    "    Top2Vec:  automatically detects high density areas of documents in its semantic space, the centroids of which are identified as the prominent topics in the corpora. Top2Vec assumes that each document is based on one topic, instead of a mixture of topics.\n",
    "\n",
    "    BERTopic: Like Top2Vec, BERTopic uses BERT embeddings and a class-based TF-IDF matrix to discover dense clusters in the document corpora. These dense clusters allow for easily interpretable topics while keeping the most important words in the topic description.\n"
   ]
  },
  {
   "cell_type": "markdown",
   "metadata": {},
   "source": [
    "For the solution of this challenge I opted to use a modification of the BERTopic for a better validation of the steps and results.  In the next paragraphs each of the steps required for the topic extraction will be described."
   ]
  },
  {
   "cell_type": "markdown",
   "metadata": {},
   "source": [
    "."
   ]
  },
  {
   "cell_type": "markdown",
   "metadata": {},
   "source": [
    "### 1. First steps in code"
   ]
  },
  {
   "cell_type": "markdown",
   "metadata": {},
   "source": [
    "In this part the libraries required for the different steps are implemented: extraction of the abstracts from the xml, transformation of sentences to vectors, comparissons among vectors, etc."
   ]
  },
  {
   "cell_type": "code",
   "execution_count": 1,
   "metadata": {},
   "outputs": [],
   "source": [
    "import pandas as pd                                             #2.0.1\n",
    "import os                                                       #nt\n",
    "import xml.etree.cElementTree as et                             #1.3.0\n",
    "import umap                                                     #0.5.5\n",
    "import hdbscan                                                  #0.8.33\n",
    "import matplotlib.pyplot as plt                                 #3.8.3\n",
    "import numpy as np                                              #1.24.3\n",
    "from sklearn.feature_extraction.text import CountVectorizer     #0.0.2\n",
    "from sentence_transformers import SentenceTransformer           #2.4.0\n",
    "from sklearn.metrics.pairwise import cosine_similarity          #0.1.2"
   ]
  },
  {
   "cell_type": "markdown",
   "metadata": {},
   "source": [
    "."
   ]
  },
  {
   "cell_type": "markdown",
   "metadata": {},
   "source": [
    "### 2. Abstracts cleanning and formatting"
   ]
  },
  {
   "cell_type": "markdown",
   "metadata": {},
   "source": [
    "Even when methods as BERTopic do not required preprocessing (stop words removal, tokenization, stemming, lemmatization, etc), it is necessary to extract all the xml remnants in the paragraphs.  Also, embedding process requires that abstracts must be presented as a list.  Next cell cleans the abstracts, remove the ones without narration and prepares the list."
   ]
  },
  {
   "cell_type": "code",
   "execution_count": 2,
   "metadata": {},
   "outputs": [],
   "source": [
    "def xml_cleaning_text(text):\n",
    "    text = text.replace(\"&lt;br/&gt;\", \"\") \n",
    "    text = text.replace(\"ltbrgt\", \"\") \n",
    "    return text\n",
    "\n",
    "\n",
    "test_list = []\n",
    "path = 'C:/Users/LENOVO/Downloads/2020'\n",
    "for filename in os.listdir(path):\n",
    "    abstract = \"\"\n",
    "    if not filename.endswith('.xml'): continue\n",
    "    fullname = os.path.join(path, filename)\n",
    "    tree=et.parse(fullname)\n",
    "    root=tree.getroot()\n",
    "    for abstr in root.iter('AbstractNarration'):\n",
    "        abstract = abstr.text\n",
    "    if abstract != None: \n",
    "        abstract = xml_cleaning_text(abstract)\n",
    "        index = len(test_list)\n",
    "        test_list.insert(index, abstract)"
   ]
  },
  {
   "cell_type": "code",
   "execution_count": 3,
   "metadata": {},
   "outputs": [],
   "source": [
    "#test_list"
   ]
  },
  {
   "cell_type": "markdown",
   "metadata": {},
   "source": [
    "Once that abstracts were processed in this small procedure, now it follows the embedding procedure."
   ]
  },
  {
   "cell_type": "markdown",
   "metadata": {},
   "source": [
    "."
   ]
  },
  {
   "cell_type": "markdown",
   "metadata": {},
   "source": [
    "### 3. Pretrained model selection"
   ]
  },
  {
   "cell_type": "markdown",
   "metadata": {},
   "source": [
    "Sentence_transformers framework provides an easy method to compute dense vector representations for sentences, paragraphs, and images. The models are based on transformer networks like BERT / RoBERTa / XLM-RoBERTa etc. and achieve state-of-the-art performance in various tasks. Text is embedded in vector space such that similar text are closer and can efficiently be found using cosine similarity."
   ]
  },
  {
   "cell_type": "markdown",
   "metadata": {},
   "source": [
    "For this experiment I use three different pretrained models.  At the end, all-MiniLM-L12-v2 resulted to have a great embedding performance, with a reasonable speed and compact size.  For a better reference of the pretrained models please verify the link https://www.sbert.net/docs/pretrained_models.html\n",
    "\n",
    "Sentence_transformers provide a large list of Pretrained Models for more than 100 languages. Some models are general purpose models, while others produce embeddings for specific use cases. Pre-trained models can be loaded by just passing the model name: SentenceTransformer('model_name')."
   ]
  },
  {
   "cell_type": "code",
   "execution_count": 4,
   "metadata": {},
   "outputs": [],
   "source": [
    "#model = SentenceTransformer('paraphrase-MiniLM-L6-v2')\n",
    "#model = SentenceTransformer('all-mpnet-base-v2')\n",
    "model = SentenceTransformer('all-MiniLM-L12-v2')"
   ]
  },
  {
   "cell_type": "markdown",
   "metadata": {},
   "source": [
    "### 4. Embedding procedure"
   ]
  },
  {
   "cell_type": "markdown",
   "metadata": {},
   "source": [
    "The next step is converting the documents to numerical data. I used BERT for this purpose as it extracts different embeddings based on the context of the word.  After this step, each of the abstracts are transformed to 384-dimensional vectors."
   ]
  },
  {
   "cell_type": "code",
   "execution_count": 5,
   "metadata": {},
   "outputs": [
    {
     "data": {
      "application/vnd.jupyter.widget-view+json": {
       "model_id": "5c704721bc054b41957ce509a92ddac7",
       "version_major": 2,
       "version_minor": 0
      },
      "text/plain": [
       "Batches:   0%|          | 0/412 [00:00<?, ?it/s]"
      ]
     },
     "metadata": {},
     "output_type": "display_data"
    },
    {
     "name": "stdout",
     "output_type": "stream",
     "text": [
      "[[-0.06460923 -0.0167403  -0.06319063 ...  0.0333287   0.1363133\n",
      "   0.0490967 ]\n",
      " [ 0.01023794  0.03461026  0.10262935 ...  0.02458825  0.06760587\n",
      "   0.05256987]\n",
      " [-0.09768373  0.04657663  0.02220079 ... -0.04947853 -0.01443587\n",
      "  -0.01266193]\n",
      " ...\n",
      " [-0.01629216  0.07713658 -0.035082   ...  0.02813233  0.00547994\n",
      "   0.00772742]\n",
      " [-0.01629216  0.07713658 -0.035082   ...  0.02813233  0.00547994\n",
      "   0.00772742]\n",
      " [ 0.0609619  -0.04905521 -0.01625699 ... -0.05161207  0.03077687\n",
      "  -0.01193994]]\n"
     ]
    }
   ],
   "source": [
    "embedding = model.encode(test_list, show_progress_bar=True)\n",
    "print(embedding)"
   ]
  },
  {
   "cell_type": "markdown",
   "metadata": {},
   "source": [
    "It is necessary to validate that similar topics are clustered together such that we can find the topics within these clusters. Before that, we need to lower the dimensionality of the vectors."
   ]
  },
  {
   "cell_type": "markdown",
   "metadata": {},
   "source": [
    "### 5. UMAP (Uniform Manifold Approximation and Projection)"
   ]
  },
  {
   "cell_type": "markdown",
   "metadata": {},
   "source": [
    "UMAP package help us to reduce the dimensionality while keeping the size of the local neighborhood:"
   ]
  },
  {
   "cell_type": "code",
   "execution_count": 6,
   "metadata": {},
   "outputs": [],
   "source": [
    "umap_embeddings = umap.UMAP(n_neighbors=15, \n",
    "                            n_components=5, \n",
    "                            metric='cosine').fit_transform(embedding)"
   ]
  },
  {
   "cell_type": "markdown",
   "metadata": {},
   "source": [
    "### 6. HDBSAN (Hierarchical Density-Based Spatial Clustering of Applications with Noise)"
   ]
  },
  {
   "cell_type": "markdown",
   "metadata": {},
   "source": [
    "HDBSCAN learns the context of the language and identifies high density regions within a document corpora based on their word distributions to deduce the optimal number of topics."
   ]
  },
  {
   "cell_type": "code",
   "execution_count": 7,
   "metadata": {},
   "outputs": [],
   "source": [
    "cluster = hdbscan.HDBSCAN(min_cluster_size=5,\n",
    "                          metric='euclidean',                      \n",
    "                          cluster_selection_method='eom').fit(umap_embeddings)"
   ]
  },
  {
   "cell_type": "markdown",
   "metadata": {},
   "source": [
    "Now we have clustered similar documents together which should represent the topics that they consist of. To visualize the resulting clusters we can reduce the dimensionality to 2:"
   ]
  },
  {
   "cell_type": "code",
   "execution_count": 8,
   "metadata": {},
   "outputs": [
    {
     "data": {
      "text/plain": [
       "<matplotlib.colorbar.Colorbar at 0x2c7f4527a50>"
      ]
     },
     "execution_count": 8,
     "metadata": {},
     "output_type": "execute_result"
    },
    {
     "data": {
      "image/png": "[encoded data removed]",
      "text/plain": [
       "<Figure size 2000x1000 with 2 Axes>"
      ]
     },
     "metadata": {},
     "output_type": "display_data"
    }
   ],
   "source": [
    "umap_data = umap.UMAP(n_neighbors=5, n_components=2, min_dist=0.0, metric='cosine').fit_transform(embedding)\n",
    "result = pd.DataFrame(umap_data, columns=['x', 'y'])\n",
    "result['labels'] = cluster.labels_\n",
    "\n",
    "fig, ax = plt.subplots(figsize=(20, 10))\n",
    "outliers = result.loc[result.labels == -1, :]\n",
    "clustered = result.loc[result.labels != -1, :]\n",
    "plt.scatter(outliers.x, outliers.y, color='#BDBDBD', s=0.05)\n",
    "plt.scatter(clustered.x, clustered.y, c=clustered.labels, s=0.05, cmap='hsv_r')\n",
    "plt.colorbar()"
   ]
  },
  {
   "cell_type": "markdown",
   "metadata": {},
   "source": [
    "At the end of this step, result dataframe shows the label of each abstract (cluster number) and their respective coordinates:"
   ]
  },
  {
   "cell_type": "code",
   "execution_count": 9,
   "metadata": {},
   "outputs": [
    {
     "data": {
      "text/html": [
       "<div>\n",
       "<style scoped>\n",
       "    .dataframe tbody tr th:only-of-type {\n",
       "        vertical-align: middle;\n",
       "    }\n",
       "\n",
       "    .dataframe tbody tr th {\n",
       "        vertical-align: top;\n",
       "    }\n",
       "\n",
       "    .dataframe thead th {\n",
       "        text-align: right;\n",
       "    }\n",
       "</style>\n",
       "<table border=\"1\" class=\"dataframe\">\n",
       "  <thead>\n",
       "    <tr style=\"text-align: right;\">\n",
       "      <th></th>\n",
       "      <th>x</th>\n",
       "      <th>y</th>\n",
       "      <th>labels</th>\n",
       "    </tr>\n",
       "  </thead>\n",
       "  <tbody>\n",
       "    <tr>\n",
       "      <th>0</th>\n",
       "      <td>6.122447</td>\n",
       "      <td>3.070902</td>\n",
       "      <td>-1</td>\n",
       "    </tr>\n",
       "    <tr>\n",
       "      <th>1</th>\n",
       "      <td>0.979171</td>\n",
       "      <td>6.451790</td>\n",
       "      <td>-1</td>\n",
       "    </tr>\n",
       "    <tr>\n",
       "      <th>2</th>\n",
       "      <td>2.026649</td>\n",
       "      <td>-2.745803</td>\n",
       "      <td>187</td>\n",
       "    </tr>\n",
       "    <tr>\n",
       "      <th>3</th>\n",
       "      <td>0.755273</td>\n",
       "      <td>7.977842</td>\n",
       "      <td>336</td>\n",
       "    </tr>\n",
       "    <tr>\n",
       "      <th>4</th>\n",
       "      <td>-2.568400</td>\n",
       "      <td>1.036013</td>\n",
       "      <td>316</td>\n",
       "    </tr>\n",
       "    <tr>\n",
       "      <th>...</th>\n",
       "      <td>...</td>\n",
       "      <td>...</td>\n",
       "      <td>...</td>\n",
       "    </tr>\n",
       "    <tr>\n",
       "      <th>13154</th>\n",
       "      <td>8.669034</td>\n",
       "      <td>4.946033</td>\n",
       "      <td>406</td>\n",
       "    </tr>\n",
       "    <tr>\n",
       "      <th>13155</th>\n",
       "      <td>1.883094</td>\n",
       "      <td>-4.330270</td>\n",
       "      <td>250</td>\n",
       "    </tr>\n",
       "    <tr>\n",
       "      <th>13156</th>\n",
       "      <td>10.135426</td>\n",
       "      <td>0.363672</td>\n",
       "      <td>82</td>\n",
       "    </tr>\n",
       "    <tr>\n",
       "      <th>13157</th>\n",
       "      <td>10.146456</td>\n",
       "      <td>0.341982</td>\n",
       "      <td>82</td>\n",
       "    </tr>\n",
       "    <tr>\n",
       "      <th>13158</th>\n",
       "      <td>10.108644</td>\n",
       "      <td>2.318342</td>\n",
       "      <td>-1</td>\n",
       "    </tr>\n",
       "  </tbody>\n",
       "</table>\n",
       "<p>13159 rows × 3 columns</p>\n",
       "</div>"
      ],
      "text/plain": [
       "               x         y  labels\n",
       "0       6.122447  3.070902      -1\n",
       "1       0.979171  6.451790      -1\n",
       "2       2.026649 -2.745803     187\n",
       "3       0.755273  7.977842     336\n",
       "4      -2.568400  1.036013     316\n",
       "...          ...       ...     ...\n",
       "13154   8.669034  4.946033     406\n",
       "13155   1.883094 -4.330270     250\n",
       "13156  10.135426  0.363672      82\n",
       "13157  10.146456  0.341982      82\n",
       "13158  10.108644  2.318342      -1\n",
       "\n",
       "[13159 rows x 3 columns]"
      ]
     },
     "execution_count": 9,
     "metadata": {},
     "output_type": "execute_result"
    }
   ],
   "source": [
    "result"
   ]
  },
  {
   "cell_type": "markdown",
   "metadata": {},
   "source": [
    "### 7. Topic creation"
   ]
  },
  {
   "cell_type": "markdown",
   "metadata": {},
   "source": [
    "If it is used a variant of TF-IDF , that would allow me to extract what makes each set of documents unique compared to the other.  To create this class-based TF-IDF score, we need to first create a single document for each cluster of documents:"
   ]
  },
  {
   "cell_type": "code",
   "execution_count": 10,
   "metadata": {},
   "outputs": [],
   "source": [
    "docs_df = pd.DataFrame(test_list, columns=[\"Doc\"])\n",
    "docs_df['Topic'] = cluster.labels_\n",
    "docs_df['Doc_ID'] = range(len(docs_df))\n",
    "docs_per_topic = docs_df.groupby(['Topic'], as_index = False).agg({'Doc': ' '.join})"
   ]
  },
  {
   "cell_type": "markdown",
   "metadata": {},
   "source": [
    "The frequency of each word is extracted for each class and divided by the total number of words. This action can be seen as a form of regularization of frequent words in the class. Next, the total, unjoined, number of documents is divided by the total frequency of words across all classes."
   ]
  },
  {
   "cell_type": "code",
   "execution_count": 11,
   "metadata": {},
   "outputs": [],
   "source": [
    "def c_tf_idf(documents, m, ngram_range=(1, 1)):\n",
    "    count = CountVectorizer(ngram_range=ngram_range, stop_words=\"english\").fit(documents)\n",
    "    t = count.transform(documents).toarray()\n",
    "    w = t.sum(axis=1)\n",
    "    tf = np.divide(t.T, w)\n",
    "    sum_t = t.sum(axis=0)\n",
    "    idf = np.log(np.divide(m, sum_t)).reshape(-1, 1)\n",
    "    tf_idf = np.multiply(tf, idf)\n",
    "    tf_idf = np.nan_to_num(tf_idf)\n",
    "    return tf_idf, count\n",
    "\n",
    "  \n",
    "tf_idf, count = c_tf_idf(docs_per_topic.Doc.values, m=len(test_list))"
   ]
  },
  {
   "cell_type": "markdown",
   "metadata": {},
   "source": [
    "With this function now we have a single importance value for each word in a cluster which can be used to create the topic. If we take the top 5 most important words in each cluster, then we would get a good representation of a cluster, and thereby a topic."
   ]
  },
  {
   "cell_type": "code",
   "execution_count": 12,
   "metadata": {},
   "outputs": [
    {
     "data": {
      "text/plain": [
       "array([[6.79156857e-04, 0.00000000e+00, 0.00000000e+00, ...,\n",
       "        6.01803983e-04, 0.00000000e+00, 4.86070534e-04],\n",
       "       [9.05546034e-06, 0.00000000e+00, 0.00000000e+00, ...,\n",
       "        0.00000000e+00, 0.00000000e+00, 0.00000000e+00],\n",
       "       [8.39369348e-06, 0.00000000e+00, 0.00000000e+00, ...,\n",
       "        0.00000000e+00, 0.00000000e+00, 0.00000000e+00],\n",
       "       ...,\n",
       "       [9.05546034e-06, 0.00000000e+00, 0.00000000e+00, ...,\n",
       "        0.00000000e+00, 0.00000000e+00, 0.00000000e+00],\n",
       "       [9.05546034e-06, 0.00000000e+00, 0.00000000e+00, ...,\n",
       "        0.00000000e+00, 0.00000000e+00, 0.00000000e+00],\n",
       "       [1.67873870e-05, 0.00000000e+00, 0.00000000e+00, ...,\n",
       "        0.00000000e+00, 0.00000000e+00, 0.00000000e+00]])"
      ]
     },
     "execution_count": 12,
     "metadata": {},
     "output_type": "execute_result"
    }
   ],
   "source": [
    "tf_idf"
   ]
  },
  {
   "cell_type": "markdown",
   "metadata": {},
   "source": [
    "### 8. Topic representation"
   ]
  },
  {
   "cell_type": "markdown",
   "metadata": {},
   "source": [
    "In order to create a topic representation, we take the top 20 words per topic based on their c-TF-IDF scores. The higher the score, the more representative it should be of its topic as the score is a proxy of information density."
   ]
  },
  {
   "cell_type": "code",
   "execution_count": 13,
   "metadata": {},
   "outputs": [
    {
     "data": {
      "text/html": [
       "<div>\n",
       "<style scoped>\n",
       "    .dataframe tbody tr th:only-of-type {\n",
       "        vertical-align: middle;\n",
       "    }\n",
       "\n",
       "    .dataframe tbody tr th {\n",
       "        vertical-align: top;\n",
       "    }\n",
       "\n",
       "    .dataframe thead th {\n",
       "        text-align: right;\n",
       "    }\n",
       "</style>\n",
       "<table border=\"1\" class=\"dataframe\">\n",
       "  <thead>\n",
       "    <tr style=\"text-align: right;\">\n",
       "      <th></th>\n",
       "      <th>Topic</th>\n",
       "      <th>Size</th>\n",
       "    </tr>\n",
       "  </thead>\n",
       "  <tbody>\n",
       "    <tr>\n",
       "      <th>0</th>\n",
       "      <td>-1</td>\n",
       "      <td>4123</td>\n",
       "    </tr>\n",
       "    <tr>\n",
       "      <th>498</th>\n",
       "      <td>497</td>\n",
       "      <td>147</td>\n",
       "    </tr>\n",
       "    <tr>\n",
       "      <th>170</th>\n",
       "      <td>169</td>\n",
       "      <td>107</td>\n",
       "    </tr>\n",
       "    <tr>\n",
       "      <th>215</th>\n",
       "      <td>214</td>\n",
       "      <td>105</td>\n",
       "    </tr>\n",
       "    <tr>\n",
       "      <th>11</th>\n",
       "      <td>10</td>\n",
       "      <td>101</td>\n",
       "    </tr>\n",
       "    <tr>\n",
       "      <th>159</th>\n",
       "      <td>158</td>\n",
       "      <td>99</td>\n",
       "    </tr>\n",
       "    <tr>\n",
       "      <th>351</th>\n",
       "      <td>350</td>\n",
       "      <td>99</td>\n",
       "    </tr>\n",
       "    <tr>\n",
       "      <th>250</th>\n",
       "      <td>249</td>\n",
       "      <td>86</td>\n",
       "    </tr>\n",
       "    <tr>\n",
       "      <th>459</th>\n",
       "      <td>458</td>\n",
       "      <td>81</td>\n",
       "    </tr>\n",
       "    <tr>\n",
       "      <th>507</th>\n",
       "      <td>506</td>\n",
       "      <td>73</td>\n",
       "    </tr>\n",
       "  </tbody>\n",
       "</table>\n",
       "</div>"
      ],
      "text/plain": [
       "     Topic  Size\n",
       "0       -1  4123\n",
       "498    497   147\n",
       "170    169   107\n",
       "215    214   105\n",
       "11      10   101\n",
       "159    158    99\n",
       "351    350    99\n",
       "250    249    86\n",
       "459    458    81\n",
       "507    506    73"
      ]
     },
     "execution_count": 13,
     "metadata": {},
     "output_type": "execute_result"
    }
   ],
   "source": [
    "def extract_top_n_words_per_topic(tf_idf, count, docs_per_topic, n=20):\n",
    "    words = count.get_feature_names_out()\n",
    "    labels = list(docs_per_topic.Topic)\n",
    "    tf_idf_transposed = tf_idf.T\n",
    "    indices = tf_idf_transposed.argsort()[:, -n:]\n",
    "    top_n_words = {label: [(words[j], tf_idf_transposed[i][j]) for j in indices[i]][::-1] for i, label in enumerate(labels)}\n",
    "    return top_n_words\n",
    "\n",
    "def extract_topic_sizes(df):\n",
    "    topic_sizes = (df.groupby(['Topic'])\n",
    "                     .Doc\n",
    "                     .count()\n",
    "                     .reset_index()\n",
    "                     .rename({\"Topic\": \"Topic\", \"Doc\": \"Size\"}, axis='columns')\n",
    "                     .sort_values(\"Size\", ascending=False))\n",
    "    return topic_sizes\n",
    "\n",
    "top_n_words = extract_top_n_words_per_topic(tf_idf, count, docs_per_topic, n=20)\n",
    "topic_sizes = extract_topic_sizes(docs_df); topic_sizes.head(10)"
   ]
  },
  {
   "cell_type": "markdown",
   "metadata": {},
   "source": [
    "The topic name-1 refers to all documents that did not have any topics assigned. The great thing about HDBSCAN is that not all documents are forced towards a certain cluster. If no cluster could be found, then it is simply an outlier.  This is an example of the cluster 19 and the top 10 words:"
   ]
  },
  {
   "cell_type": "code",
   "execution_count": 14,
   "metadata": {},
   "outputs": [
    {
     "data": {
      "text/plain": [
       "[('perovskite', 0.07050847300640571),\n",
       " ('perovskites', 0.04300865799960173),\n",
       " ('solar', 0.04170522351894684),\n",
       " ('chalcogenide', 0.02528901373902579),\n",
       " ('halide', 0.021860856679320775),\n",
       " ('cells', 0.019871528118606055),\n",
       " ('device', 0.015892195874652685),\n",
       " ('tin', 0.014897473859503478),\n",
       " ('carrier', 0.01431632013075127),\n",
       " ('inorganic', 0.014124521637111209)]"
      ]
     },
     "execution_count": 14,
     "metadata": {},
     "output_type": "execute_result"
    }
   ],
   "source": [
    "top_n_words[19][:10]"
   ]
  },
  {
   "cell_type": "markdown",
   "metadata": {},
   "source": [
    "### 9. Topic reduction"
   ]
  },
  {
   "cell_type": "markdown",
   "metadata": {},
   "source": [
    "One practical step is the reduction of topics, which consist in the reduction of the topics number by merging the topic vectors that were most similar to each other.\n",
    "\n",
    "We can use a similar technique by comparing the c-TF-IDF vectors among topics, merge the most similar ones, and finally re-calculate the c-TF-IDF vectors to update the representation of our topics:"
   ]
  },
  {
   "cell_type": "code",
   "execution_count": 15,
   "metadata": {},
   "outputs": [],
   "source": [
    "for i in range(20):\n",
    "    # Calculate cosine similarity\n",
    "    similarities = cosine_similarity(tf_idf.T)\n",
    "    np.fill_diagonal(similarities, 0)\n",
    "\n",
    "    # Extract label to merge into and from where\n",
    "    topic_sizes = docs_df.groupby(['Topic']).count().sort_values(\"Doc\", ascending=False).reset_index()\n",
    "    topic_to_merge = topic_sizes.iloc[-1].Topic\n",
    "    topic_to_merge_into = np.argmax(similarities[topic_to_merge + 1]) - 1\n",
    "\n",
    "    # Adjust topics\n",
    "    docs_df.loc[docs_df.Topic == topic_to_merge, \"Topic\"] = topic_to_merge_into\n",
    "    old_topics = docs_df.sort_values(\"Topic\").Topic.unique()\n",
    "    map_topics = {old_topic: index - 1 for index, old_topic in enumerate(old_topics)}\n",
    "    docs_df.Topic = docs_df.Topic.map(map_topics)\n",
    "    docs_per_topic = docs_df.groupby(['Topic'], as_index = False).agg({'Doc': ' '.join})\n",
    "\n",
    "    # Calculate new topic words\n",
    "    m = len(test_list)\n",
    "    tf_idf, count = c_tf_idf(docs_per_topic.Doc.values, m)\n",
    "    top_n_words = extract_top_n_words_per_topic(tf_idf, count, docs_per_topic, n=5)\n",
    "\n",
    "topic_sizes = extract_topic_sizes(docs_df); topic_sizes.head(10)\n",
    "topic_sizes = topic_sizes.sort_values(by='Topic')\n"
   ]
  },
  {
   "cell_type": "markdown",
   "metadata": {},
   "source": [
    "The next cell is just a preparation of the format.  The final dataframe contains the name of the topic, its size and the cluster name consisting in the concatenation of the first five topics."
   ]
  },
  {
   "cell_type": "code",
   "execution_count": 16,
   "metadata": {},
   "outputs": [],
   "source": [
    "topic_null_size = topic_sizes.loc[0,'Size']\n",
    "topic_sizes = topic_sizes.drop(topic_sizes.index[0])\n",
    "topic_sizes['Cluster_name'] = '0'\n",
    "topic_sizes.loc[-1,'Cluster_name'] = 'ABSTRACTS-WITHOUT-CLUSTER'\n",
    "topic_sizes.loc[-1,'Topic'] = '-1'\n",
    "topic_sizes.loc[-1,'Size'] = topic_null_size\n",
    "for i in range(0,len(topic_sizes)-1):\n",
    "    topic_sizes.loc[i+1,'Cluster_name'] = str(top_n_words[i][:5][0][0])+\" - \"+str(top_n_words[i][:5][1][0])+\" - \"+str(top_n_words[i][:5][2][0])+\" - \"+str(top_n_words[i][:5][3][0])+\" - \"+str(top_n_words[i][:5][4][0])\n",
    "topic_sizes = topic_sizes.sort_values(by='Size')"
   ]
  },
  {
   "cell_type": "code",
   "execution_count": 17,
   "metadata": {},
   "outputs": [
    {
     "data": {
      "text/html": [
       "<div>\n",
       "<style scoped>\n",
       "    .dataframe tbody tr th:only-of-type {\n",
       "        vertical-align: middle;\n",
       "    }\n",
       "\n",
       "    .dataframe tbody tr th {\n",
       "        vertical-align: top;\n",
       "    }\n",
       "\n",
       "    .dataframe thead th {\n",
       "        text-align: right;\n",
       "    }\n",
       "</style>\n",
       "<table border=\"1\" class=\"dataframe\">\n",
       "  <thead>\n",
       "    <tr style=\"text-align: right;\">\n",
       "      <th></th>\n",
       "      <th>Topic</th>\n",
       "      <th>Size</th>\n",
       "      <th>Cluster_name</th>\n",
       "    </tr>\n",
       "  </thead>\n",
       "  <tbody>\n",
       "    <tr>\n",
       "      <th>-1</th>\n",
       "      <td>-1</td>\n",
       "      <td>4143.0</td>\n",
       "      <td>ABSTRACTS-WITHOUT-CLUSTER</td>\n",
       "    </tr>\n",
       "    <tr>\n",
       "      <th>482</th>\n",
       "      <td>481.0</td>\n",
       "      <td>147.0</td>\n",
       "      <td>covid - pandemic - 19 - social - risk</td>\n",
       "    </tr>\n",
       "    <tr>\n",
       "      <th>167</th>\n",
       "      <td>166.0</td>\n",
       "      <td>107.0</td>\n",
       "      <td>archaeological - heritage - ancient - archaeol...</td>\n",
       "    </tr>\n",
       "    <tr>\n",
       "      <th>212</th>\n",
       "      <td>211.0</td>\n",
       "      <td>105.0</td>\n",
       "      <td>income - graduation - scholarships - scholars ...</td>\n",
       "    </tr>\n",
       "    <tr>\n",
       "      <th>11</th>\n",
       "      <td>10.0</td>\n",
       "      <td>101.0</td>\n",
       "      <td>plasma - ionospheric - ionosphere - solar - space</td>\n",
       "    </tr>\n",
       "    <tr>\n",
       "      <th>...</th>\n",
       "      <td>...</td>\n",
       "      <td>...</td>\n",
       "      <td>...</td>\n",
       "    </tr>\n",
       "    <tr>\n",
       "      <th>126</th>\n",
       "      <td>125.0</td>\n",
       "      <td>6.0</td>\n",
       "      <td>floodplain - flood - floodplains - regulatory ...</td>\n",
       "    </tr>\n",
       "    <tr>\n",
       "      <th>387</th>\n",
       "      <td>386.0</td>\n",
       "      <td>6.0</td>\n",
       "      <td>flybase - drosophila - fly - dssc - scea</td>\n",
       "    </tr>\n",
       "    <tr>\n",
       "      <th>189</th>\n",
       "      <td>188.0</td>\n",
       "      <td>6.0</td>\n",
       "      <td>deepfake - deepfakes - journalists - content -...</td>\n",
       "    </tr>\n",
       "    <tr>\n",
       "      <th>436</th>\n",
       "      <td>435.0</td>\n",
       "      <td>5.0</td>\n",
       "      <td>active - enzymes - particles - powered - futur...</td>\n",
       "    </tr>\n",
       "    <tr>\n",
       "      <th>494</th>\n",
       "      <td>493.0</td>\n",
       "      <td>5.0</td>\n",
       "      <td>cov - mers - rabbit - rhdv2 - zoonotic</td>\n",
       "    </tr>\n",
       "  </tbody>\n",
       "</table>\n",
       "<p>531 rows × 3 columns</p>\n",
       "</div>"
      ],
      "text/plain": [
       "      Topic    Size                                       Cluster_name\n",
       "-1       -1  4143.0                          ABSTRACTS-WITHOUT-CLUSTER\n",
       " 482  481.0   147.0              covid - pandemic - 19 - social - risk\n",
       " 167  166.0   107.0  archaeological - heritage - ancient - archaeol...\n",
       " 212  211.0   105.0  income - graduation - scholarships - scholars ...\n",
       " 11    10.0   101.0  plasma - ionospheric - ionosphere - solar - space\n",
       "...     ...     ...                                                ...\n",
       " 126  125.0     6.0  floodplain - flood - floodplains - regulatory ...\n",
       " 387  386.0     6.0           flybase - drosophila - fly - dssc - scea\n",
       " 189  188.0     6.0  deepfake - deepfakes - journalists - content -...\n",
       " 436  435.0     5.0  active - enzymes - particles - powered - futur...\n",
       " 494  493.0     5.0             cov - mers - rabbit - rhdv2 - zoonotic\n",
       "\n",
       "[531 rows x 3 columns]"
      ]
     },
     "execution_count": 17,
     "metadata": {},
     "output_type": "execute_result"
    }
   ],
   "source": [
    "topic_sizes = topic_sizes.sort_values(by='Size', ascending=False)\n",
    "topic_sizes"
   ]
  },
  {
   "cell_type": "markdown",
   "metadata": {},
   "source": [
    "### 10. Conclusions"
   ]
  },
  {
   "cell_type": "markdown",
   "metadata": {},
   "source": [
    "The aim of this code was to develope an unsupervised model which classifies abstracts into a topic based on their semantic similarity.  There are some comments about the presented code:\n",
    "\n",
    "    The use of the sentence-transformer package was crucial to this task.  It generated high-quality embeddings.\n",
    "\n",
    "    Pre-trained model was selected according to the speed and performance; however there were not exhaustive tests to assure that it is not the best of the options.\n",
    "\n",
    "    HDBSAN is a great option for the detection of topics because it does not force data points to clusters as it considers them outliers.\n",
    "\n",
    "    I decided to use just the principal 5 words for the topic definition, but it could use more words and it would offer a better description of the cluster.\n",
    "    \n",
    "    Topic reduction could be not strictly necessary.  I considered that due to the redundancy in some of the clusters it would be a good idea to maintain a low count of clusters."
   ]
  },
  {
   "cell_type": "markdown",
   "metadata": {},
   "source": [
    "."
   ]
  },
  {
   "cell_type": "markdown",
   "metadata": {},
   "source": [
    "### 11. References"
   ]
  },
  {
   "cell_type": "markdown",
   "metadata": {},
   "source": [
    "    Deerwester, S. (1990). Indexing by latent semantic analysis. Retrieved from Asis&t: https://asistdl.onlinelibrary.wiley.com/doi/abs/10.1002/(SICI)1097-4571(199009)41:6%3C391::AID-ASI1%3E3.0.CO;2-9\n",
    "\n",
    "    Hofmann, T. (1999). Probabilistic latent semantic analysis. Retrieved from ACM: https://dl.acm.org/doi/10.5555/2073796.2073829\n",
    "\n",
    "    Blei, D. (2003). Latent Dirichlet Allocation. Retrieved from Journal of ML Research: https://www.jmlr.org/papers/volume3/blei03a/blei03a.pdf\n",
    "\n",
    "    Angelov, D. (2020). Top2Vec: Distributed Representations of Topics. Arxiv.\n",
    "\n",
    "    Briggs, J. (n.d.). Advanced Topic Modeling with BERTopic. Retrieved from Pinecone: https://www.pinecone.io/learn/bertopic/\n",
    "\n",
    "    David, D. (2021, August 24). NLP Tutorial: Topic Modeling in Python with BerTopic. Retrieved from hackernoon: https://hackernoon.com/\n",
    "    nlp-tutorial-topic-modeling-in-python-with-bertopic-372w35l9\n",
    "\n",
    "    Grootendorst, M. (2020, October 5). Topic Modeling with BERT.  Leveraging BERT and TF-IDF to create easily interpretable topics. Retrieved from Towards Data Science: https://towardsdatascience.com/topic-modeling-with-bert-779f7db187e6\n",
    "\n",
    "    Grootendorst, M. (2021, January 6). Interactive Topic Modeling with BERTopic.  An ind-depth guide to topic modeling with BERTopic. Retrieved from Towards Data Science: https://towardsdatascience.com/interactive-topic-modeling-with-bertopic-1ea55e7d73d8\n",
    "   \n"
   ]
  }
 ],
 "metadata": {
  "kernelspec": {
   "display_name": "Python 3",
   "language": "python",
   "name": "python3"
  },
  "language_info": {
   "codemirror_mode": {
    "name": "ipython",
    "version": 3
   },
   "file_extension": ".py",
   "mimetype": "text/x-python",
   "name": "python",
   "nbconvert_exporter": "python",
   "pygments_lexer": "ipython3",
   "version": "3.11.8"
  }
 },
 "nbformat": 4,
 "nbformat_minor": 2
}
